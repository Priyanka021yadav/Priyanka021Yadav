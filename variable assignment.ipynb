{
 "cells": [
  {
   "cell_type": "code",
   "execution_count": 3,
   "id": "2e08655f-b6a4-4d99-86ba-693c56e5dcb5",
   "metadata": {},
   "outputs": [],
   "source": [
    "# ANS 1--convention for declaring a variable\n",
    "# variable are inbuilt in python. like type-int, float,boolean,it is used to calling or fatching any value or word,it is fatched from memory"
   ]
  },
  {
   "cell_type": "code",
   "execution_count": null,
   "id": "e6f2a7d9-eefc-4cf9-ba85-aad9428a4361",
   "metadata": {},
   "outputs": [],
   "source": [
    "#Ans--2 If we use restricted keyword then we get syntax error example below"
   ]
  },
  {
   "cell_type": "code",
   "execution_count": 2,
   "id": "6580f2a3-4515-4174-9829-573616ee29da",
   "metadata": {},
   "outputs": [
    {
     "ename": "SyntaxError",
     "evalue": "cannot assign to True (4274587942.py, line 1)",
     "output_type": "error",
     "traceback": [
      "\u001b[0;36m  Cell \u001b[0;32mIn[2], line 1\u001b[0;36m\u001b[0m\n\u001b[0;31m    True=2\u001b[0m\n\u001b[0m    ^\u001b[0m\n\u001b[0;31mSyntaxError\u001b[0m\u001b[0;31m:\u001b[0m cannot assign to True\n"
     ]
    }
   ],
   "source": [
    "True=2\n"
   ]
  },
  {
   "cell_type": "code",
   "execution_count": 4,
   "id": "b8eaf201-c15b-4568-979d-20580f4103b8",
   "metadata": {},
   "outputs": [],
   "source": [
    "# Ans--3 we can define variable as string"
   ]
  },
  {
   "cell_type": "code",
   "execution_count": 5,
   "id": "392bb387-10bd-4b78-8089-6fd7ba594196",
   "metadata": {},
   "outputs": [],
   "source": [
    "float=\"my name is sarita\""
   ]
  },
  {
   "cell_type": "code",
   "execution_count": 8,
   "id": "707539ca-b21b-4208-98c2-8bcba9e89343",
   "metadata": {},
   "outputs": [
    {
     "data": {
      "text/plain": [
       "str"
      ]
     },
     "execution_count": 8,
     "metadata": {},
     "output_type": "execute_result"
    }
   ],
   "source": [
    "type(float)"
   ]
  },
  {
   "cell_type": "code",
   "execution_count": 9,
   "id": "d63663d3-3201-4923-8411-7159e1702a04",
   "metadata": {},
   "outputs": [],
   "source": [
    "# Ans--4 '-\"  use as variable . Example"
   ]
  },
  {
   "cell_type": "code",
   "execution_count": 10,
   "id": "7295db9a-90cd-45c7-9883-114b8dae5993",
   "metadata": {},
   "outputs": [],
   "source": [
    "_=2\n"
   ]
  },
  {
   "cell_type": "code",
   "execution_count": 11,
   "id": "d4346766-0b50-4d52-a72a-e9e8ec622da0",
   "metadata": {},
   "outputs": [
    {
     "data": {
      "text/plain": [
       "2"
      ]
     },
     "execution_count": 11,
     "metadata": {},
     "output_type": "execute_result"
    }
   ],
   "source": [
    "_"
   ]
  },
  {
   "cell_type": "code",
   "execution_count": 12,
   "id": "4f001953-47a4-47cb-a3d5-ec21ba65279d",
   "metadata": {},
   "outputs": [
    {
     "data": {
      "text/plain": [
       "int"
      ]
     },
     "execution_count": 12,
     "metadata": {},
     "output_type": "execute_result"
    }
   ],
   "source": [
    "type(_)"
   ]
  },
  {
   "cell_type": "code",
   "execution_count": 13,
   "id": "4f4c5abe-afa3-4ad4-bed6-d25f38c35c9d",
   "metadata": {},
   "outputs": [],
   "source": [
    "# Ans ---5 Variables are dynamic in nature as if you defind a variable in cell the again use the same variable to define other then it will overwrite on old one and new value will shown rather the old. For example"
   ]
  },
  {
   "cell_type": "code",
   "execution_count": 14,
   "id": "f83a9e9a-d622-402a-94a7-0c932a838070",
   "metadata": {},
   "outputs": [],
   "source": [
    "X=20"
   ]
  },
  {
   "cell_type": "code",
   "execution_count": 15,
   "id": "0641119c-66ea-4c84-be15-b95877cfdf3a",
   "metadata": {},
   "outputs": [
    {
     "data": {
      "text/plain": [
       "20"
      ]
     },
     "execution_count": 15,
     "metadata": {},
     "output_type": "execute_result"
    }
   ],
   "source": [
    "X"
   ]
  },
  {
   "cell_type": "code",
   "execution_count": 16,
   "id": "04b89362-54ea-45a0-85e4-bf04cea80279",
   "metadata": {},
   "outputs": [],
   "source": [
    "X=34.593"
   ]
  },
  {
   "cell_type": "code",
   "execution_count": 17,
   "id": "028ba0aa-e27a-4710-addd-735b718dc06c",
   "metadata": {},
   "outputs": [
    {
     "data": {
      "text/plain": [
       "34.593"
      ]
     },
     "execution_count": 17,
     "metadata": {},
     "output_type": "execute_result"
    }
   ],
   "source": [
    "X"
   ]
  },
  {
   "cell_type": "code",
   "execution_count": null,
   "id": "d5d71358-227e-420c-8a98-65f0e4b467e4",
   "metadata": {},
   "outputs": [],
   "source": []
  }
 ],
 "metadata": {
  "kernelspec": {
   "display_name": "Python 3 (ipykernel)",
   "language": "python",
   "name": "python3"
  },
  "language_info": {
   "codemirror_mode": {
    "name": "ipython",
    "version": 3
   },
   "file_extension": ".py",
   "mimetype": "text/x-python",
   "name": "python",
   "nbconvert_exporter": "python",
   "pygments_lexer": "ipython3",
   "version": "3.10.8"
  }
 },
 "nbformat": 4,
 "nbformat_minor": 5
}
